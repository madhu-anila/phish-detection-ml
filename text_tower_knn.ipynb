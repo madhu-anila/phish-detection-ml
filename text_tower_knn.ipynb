{
  "nbformat": 4,
  "nbformat_minor": 0,
  "metadata": {
    "colab": {
      "provenance": []
    },
    "kernelspec": {
      "name": "python3",
      "display_name": "Python 3"
    },
    "language_info": {
      "name": "python"
    }
  },
  "cells": [
    {
      "cell_type": "code",
      "execution_count": 1,
      "metadata": {
        "id": "iKxq_4JPvgeo"
      },
      "outputs": [],
      "source": [
        "import pandas as pd\n",
        "import numpy as np\n",
        "from sklearn.model_selection import train_test_split\n",
        "from sklearn.feature_extraction.text import TfidfVectorizer\n",
        "from sklearn.neighbors import KNeighborsClassifier\n",
        "from sklearn.metrics import accuracy_score, precision_score, recall_score, f1_score, confusion_matrix, classification_report\n",
        "import matplotlib.pyplot as plt\n",
        "import seaborn as sns"
      ]
    },
    {
      "cell_type": "code",
      "source": [
        "# Mount Google Drive (for Google Colab)\n",
        "from google.colab import drive\n",
        "drive.mount('/content/drive')\n",
        "\n",
        "# Load the dataset from Google Drive\n",
        "print(\"Loading dataset...\")\n",
        "# Update the path to match where you saved the file in your Google Drive\n",
        "df = pd.read_csv('/content/drive/MyDrive/ENPM703/Project/phishing_email.csv')"
      ],
      "metadata": {
        "colab": {
          "base_uri": "https://localhost:8080/"
        },
        "id": "zfLoexpevluV",
        "outputId": "97c58f84-bdfe-4501-d27b-baab9572fa29"
      },
      "execution_count": 2,
      "outputs": [
        {
          "output_type": "stream",
          "name": "stdout",
          "text": [
            "Mounted at /content/drive\n",
            "Loading dataset...\n"
          ]
        }
      ]
    },
    {
      "cell_type": "code",
      "source": [
        "print(f\"\\nDataset shape: {df.shape}\")\n",
        "print(f\"\\nColumn names: {df.columns.tolist()}\")\n",
        "print(f\"\\nFirst few rows:\")\n",
        "print(df.head())"
      ],
      "metadata": {
        "colab": {
          "base_uri": "https://localhost:8080/"
        },
        "id": "PLM5VpC8vu2R",
        "outputId": "793e8716-9e36-45be-aa48-f296d4ef33dd"
      },
      "execution_count": 3,
      "outputs": [
        {
          "output_type": "stream",
          "name": "stdout",
          "text": [
            "\n",
            "Dataset shape: (82486, 2)\n",
            "\n",
            "Column names: ['text_combined', 'label']\n",
            "\n",
            "First few rows:\n",
            "                                       text_combined  label\n",
            "0  hpl nom may 25 2001 see attached file hplno 52...      0\n",
            "1  nom actual vols 24 th forwarded sabrae zajac h...      0\n",
            "2  enron actuals march 30 april 1 201 estimated a...      0\n",
            "3  hpl nom may 30 2001 see attached file hplno 53...      0\n",
            "4  hpl nom june 1 2001 see attached file hplno 60...      0\n"
          ]
        }
      ]
    },
    {
      "cell_type": "code",
      "source": [
        "# Check for missing values\n",
        "print(f\"\\nMissing values:\\n{df.isnull().sum()}\")"
      ],
      "metadata": {
        "colab": {
          "base_uri": "https://localhost:8080/"
        },
        "id": "J8cLBTTcv2N1",
        "outputId": "4fa1c325-c051-44db-9e5d-e56ba0a50c46"
      },
      "execution_count": 4,
      "outputs": [
        {
          "output_type": "stream",
          "name": "stdout",
          "text": [
            "\n",
            "Missing values:\n",
            "text_combined    0\n",
            "label            0\n",
            "dtype: int64\n"
          ]
        }
      ]
    },
    {
      "cell_type": "code",
      "source": [
        "text_column = 'text_combined'\n",
        "label_column = 'label'\n",
        "\n",
        "df = df.dropna(subset=[text_column, label_column])"
      ],
      "metadata": {
        "id": "wCYF7K2ov4q6"
      },
      "execution_count": 5,
      "outputs": []
    },
    {
      "cell_type": "code",
      "source": [
        "print(f\"\\nClass distribution:\")\n",
        "# Split data into features and labels\n",
        "X = df[text_column]\n",
        "y = df['label']\n",
        "print(df['label'].value_counts())"
      ],
      "metadata": {
        "colab": {
          "base_uri": "https://localhost:8080/"
        },
        "id": "TcEYTyhSv6Y5",
        "outputId": "88b99896-a0a0-4408-8f2a-67216b02a847"
      },
      "execution_count": 6,
      "outputs": [
        {
          "output_type": "stream",
          "name": "stdout",
          "text": [
            "\n",
            "Class distribution:\n",
            "label\n",
            "1    42891\n",
            "0    39595\n",
            "Name: count, dtype: int64\n"
          ]
        }
      ]
    },
    {
      "cell_type": "code",
      "source": [
        "# Split data into features and labels\n",
        "X = df[text_column]\n",
        "y = df[label_column]"
      ],
      "metadata": {
        "id": "eOuh2Fenv8F5"
      },
      "execution_count": 7,
      "outputs": []
    },
    {
      "cell_type": "code",
      "source": [
        "# First split: 70% train, 30% temp (which will be split into val and test)\n",
        "X_train, X_temp, y_train, y_temp = train_test_split(\n",
        "    X, y, test_size=0.3, random_state=42, stratify=y\n",
        ")"
      ],
      "metadata": {
        "id": "p2_eoDwKwAxR"
      },
      "execution_count": 8,
      "outputs": []
    },
    {
      "cell_type": "code",
      "source": [
        "# Second split: Split temp into 50% val, 50% test (15% each of total)\n",
        "X_val, X_test, y_val, y_test = train_test_split(\n",
        "    X_temp, y_temp, test_size=0.5, random_state=42, stratify=y_temp\n",
        ")"
      ],
      "metadata": {
        "id": "GsoJ8JrswCX3"
      },
      "execution_count": 9,
      "outputs": []
    },
    {
      "cell_type": "code",
      "source": [
        "print(f\"\\nDataset splits:\")\n",
        "print(f\"Train set: {len(X_train)} samples ({len(X_train)/len(X)*100:.1f}%)\")\n",
        "print(f\"Validation set: {len(X_val)} samples ({len(X_val)/len(X)*100:.1f}%)\")\n",
        "print(f\"Test set: {len(X_test)} samples ({len(X_test)/len(X)*100:.1f}%)\")"
      ],
      "metadata": {
        "colab": {
          "base_uri": "https://localhost:8080/"
        },
        "id": "FQcsWHXhwD1t",
        "outputId": "bf09e262-9406-4bd2-d7b9-7e9dde639c5f"
      },
      "execution_count": 10,
      "outputs": [
        {
          "output_type": "stream",
          "name": "stdout",
          "text": [
            "\n",
            "Dataset splits:\n",
            "Train set: 57740 samples (70.0%)\n",
            "Validation set: 12373 samples (15.0%)\n",
            "Test set: 12373 samples (15.0%)\n"
          ]
        }
      ]
    },
    {
      "cell_type": "code",
      "source": [
        "# Text vectorization using TF-IDF\n",
        "print(\"\\nVectorizing text data...\")\n",
        "vectorizer = TfidfVectorizer(max_features=5000, stop_words='english', ngram_range=(1, 2))\n",
        "\n",
        "X_train_vec = vectorizer.fit_transform(X_train)\n",
        "X_val_vec = vectorizer.transform(X_val)\n",
        "X_test_vec = vectorizer.transform(X_test)\n",
        "\n",
        "print(f\"Feature vector shape: {X_train_vec.shape}\")"
      ],
      "metadata": {
        "colab": {
          "base_uri": "https://localhost:8080/"
        },
        "id": "VOlDziQFwFYo",
        "outputId": "513a697b-b62e-4056-9557-bcc096700409"
      },
      "execution_count": 11,
      "outputs": [
        {
          "output_type": "stream",
          "name": "stdout",
          "text": [
            "\n",
            "Vectorizing text data...\n",
            "Feature vector shape: (57740, 5000)\n"
          ]
        }
      ]
    },
    {
      "cell_type": "code",
      "source": [
        "# Hyperparameter tuning: Find best k value\n",
        "print(\"\\n\" + \"=\"*60)\n",
        "print(\"HYPERPARAMETER TUNING: Finding optimal k value\")\n",
        "print(\"=\"*60)\n",
        "\n",
        "k_values = range(1, 31, 2)  # Test odd values from 1 to 29\n",
        "train_scores = []\n",
        "val_scores = []\n",
        "\n",
        "for k in k_values:\n",
        "    print(f\"\\nTesting k={k}...\")\n",
        "    knn = KNeighborsClassifier(n_neighbors=k, n_jobs=-1)\n",
        "    knn.fit(X_train_vec, y_train)\n",
        "\n",
        "    train_pred = knn.predict(X_train_vec)\n",
        "    val_pred = knn.predict(X_val_vec)\n",
        "\n",
        "    train_acc = accuracy_score(y_train, train_pred)\n",
        "    val_acc = accuracy_score(y_val, val_pred)\n",
        "\n",
        "    train_scores.append(train_acc)\n",
        "    val_scores.append(val_acc)\n",
        "\n",
        "    print(f\"  Train Accuracy: {train_acc:.4f}\")\n",
        "    print(f\"  Val Accuracy: {val_acc:.4f}\")"
      ],
      "metadata": {
        "colab": {
          "base_uri": "https://localhost:8080/"
        },
        "id": "Si3D4a1dwHBF",
        "outputId": "740f41e8-8fdb-4298-c655-83a3b0567efe"
      },
      "execution_count": 12,
      "outputs": [
        {
          "output_type": "stream",
          "name": "stdout",
          "text": [
            "\n",
            "============================================================\n",
            "HYPERPARAMETER TUNING: Finding optimal k value\n",
            "============================================================\n",
            "\n",
            "Testing k=1...\n",
            "  Train Accuracy: 0.9998\n",
            "  Val Accuracy: 0.8639\n",
            "\n",
            "Testing k=3...\n",
            "  Train Accuracy: 0.9014\n",
            "  Val Accuracy: 0.8142\n",
            "\n",
            "Testing k=5...\n",
            "  Train Accuracy: 0.8385\n",
            "  Val Accuracy: 0.7807\n",
            "\n",
            "Testing k=7...\n",
            "  Train Accuracy: 0.7920\n",
            "  Val Accuracy: 0.7524\n",
            "\n",
            "Testing k=9...\n",
            "  Train Accuracy: 0.7565\n",
            "  Val Accuracy: 0.7297\n",
            "\n",
            "Testing k=11...\n",
            "  Train Accuracy: 0.7287\n",
            "  Val Accuracy: 0.7095\n",
            "\n",
            "Testing k=13...\n",
            "  Train Accuracy: 0.7089\n",
            "  Val Accuracy: 0.6936\n",
            "\n",
            "Testing k=15...\n",
            "  Train Accuracy: 0.6939\n",
            "  Val Accuracy: 0.6829\n",
            "\n",
            "Testing k=17...\n",
            "  Train Accuracy: 0.6812\n",
            "  Val Accuracy: 0.6730\n",
            "\n",
            "Testing k=19...\n",
            "  Train Accuracy: 0.6718\n",
            "  Val Accuracy: 0.6655\n",
            "\n",
            "Testing k=21...\n",
            "  Train Accuracy: 0.6641\n",
            "  Val Accuracy: 0.6586\n",
            "\n",
            "Testing k=23...\n",
            "  Train Accuracy: 0.6574\n",
            "  Val Accuracy: 0.6521\n",
            "\n",
            "Testing k=25...\n",
            "  Train Accuracy: 0.6510\n",
            "  Val Accuracy: 0.6475\n",
            "\n",
            "Testing k=27...\n",
            "  Train Accuracy: 0.6464\n",
            "  Val Accuracy: 0.6431\n",
            "\n",
            "Testing k=29...\n",
            "  Train Accuracy: 0.6423\n",
            "  Val Accuracy: 0.6396\n"
          ]
        }
      ]
    },
    {
      "cell_type": "code",
      "source": [
        "# Find best k based on validation accuracy (excluding k=1)\n",
        "val_scores_no_k1 = val_scores[1:]  # Skip first element (k=1)\n",
        "k_values_no_k1 = list(k_values)[1:]  # Skip k=1\n",
        "\n",
        "best_k_idx = np.argmax(val_scores_no_k1)\n",
        "best_k = k_values_no_k1[best_k_idx]\n",
        "best_val_acc = val_scores_no_k1[best_k_idx]\n",
        "\n",
        "print(f\"\\n{'='*60}\")\n",
        "print(f\"BEST K VALUE (excluding k=1): {best_k}\")\n",
        "print(f\"Best Validation Accuracy: {best_val_acc:.4f}\")\n",
        "print(f\"For comparison, k=1 had accuracy: {val_scores[0]:.4f}\")\n",
        "print(f\"{'='*60}\")"
      ],
      "metadata": {
        "colab": {
          "base_uri": "https://localhost:8080/"
        },
        "id": "t3giby3JwWbR",
        "outputId": "8b988bb5-6006-483b-8e36-35a35259237d"
      },
      "execution_count": 13,
      "outputs": [
        {
          "output_type": "stream",
          "name": "stdout",
          "text": [
            "\n",
            "============================================================\n",
            "BEST K VALUE (excluding k=1): 3\n",
            "Best Validation Accuracy: 0.8142\n",
            "For comparison, k=1 had accuracy: 0.8639\n",
            "============================================================\n"
          ]
        }
      ]
    },
    {
      "cell_type": "code",
      "source": [
        "# Plot hyperparameter tuning results\n",
        "plt.figure(figsize=(12, 6))\n",
        "plt.plot(k_values, train_scores, marker='o', label='Train Accuracy', linewidth=2)\n",
        "plt.plot(k_values, val_scores, marker='s', label='Validation Accuracy', linewidth=2)\n",
        "plt.axvline(x=best_k, color='r', linestyle='--', label=f'Best k={best_k}')\n",
        "plt.xlabel('k (Number of Neighbors)', fontsize=12)\n",
        "plt.ylabel('Accuracy', fontsize=12)\n",
        "plt.title('KNN Hyperparameter Tuning: k vs Accuracy', fontsize=14, fontweight='bold')\n",
        "plt.legend(fontsize=10)\n",
        "plt.grid(True, alpha=0.3)\n",
        "plt.tight_layout()\n",
        "plt.savefig('knn_hyperparameter_tuning.png', dpi=300, bbox_inches='tight')\n",
        "plt.show()"
      ],
      "metadata": {
        "colab": {
          "base_uri": "https://localhost:8080/",
          "height": 607
        },
        "id": "dFK2ney1Bkuu",
        "outputId": "f5a1a3d7-87f9-4be2-cd41-e9f9d11ad460"
      },
      "execution_count": 14,
      "outputs": [
        {
          "output_type": "display_data",
          "data": {
            "text/plain": [
              "<Figure size 1200x600 with 1 Axes>"
            ],
            "image/png": "[encoded data removed]"
          },
          "metadata": {}
        }
      ]
    },
    {
      "cell_type": "code",
      "source": [
        "# Train final model with best k\n",
        "print(f\"\\n{'='*60}\")\n",
        "print(\"TRAINING FINAL MODEL\")\n",
        "print(f\"{'='*60}\")\n",
        "\n",
        "final_knn = KNeighborsClassifier(n_neighbors=best_k, n_jobs=-1)\n",
        "final_knn.fit(X_train_vec, y_train)"
      ],
      "metadata": {
        "colab": {
          "base_uri": "https://localhost:8080/",
          "height": 149
        },
        "id": "LoBRBb6KEZiQ",
        "outputId": "0d648669-0395-43a5-c3a6-5c784b559be0"
      },
      "execution_count": 15,
      "outputs": [
        {
          "output_type": "stream",
          "name": "stdout",
          "text": [
            "\n",
            "============================================================\n",
            "TRAINING FINAL MODEL\n",
            "============================================================\n"
          ]
        },
        {
          "output_type": "execute_result",
          "data": {
            "text/plain": [
              "KNeighborsClassifier(n_jobs=-1, n_neighbors=3)"
            ],
            "text/html": [
              "<style>#sk-container-id-1 {\n",
              "  /* Definition of color scheme common for light and dark mode */\n",
              "  --sklearn-color-text: #000;\n",
              "  --sklearn-color-text-muted: #666;\n",
              "  --sklearn-color-line: gray;\n",
              "  /* Definition of color scheme for unfitted estimators */\n",
              "  --sklearn-color-unfitted-level-0: #fff5e6;\n",
              "  --sklearn-color-unfitted-level-1: #f6e4d2;\n",
              "  --sklearn-color-unfitted-level-2: #ffe0b3;\n",
              "  --sklearn-color-unfitted-level-3: chocolate;\n",
              "  /* Definition of color scheme for fitted estimators */\n",
              "  --sklearn-color-fitted-level-0: #f0f8ff;\n",
              "  --sklearn-color-fitted-level-1: #d4ebff;\n",
              "  --sklearn-color-fitted-level-2: #b3dbfd;\n",
              "  --sklearn-color-fitted-level-3: cornflowerblue;\n",
              "\n",
              "  /* Specific color for light theme */\n",
              "  --sklearn-color-text-on-default-background: var(--sg-text-color, var(--theme-code-foreground, var(--jp-content-font-color1, black)));\n",
              "  --sklearn-color-background: var(--sg-background-color, var(--theme-background, var(--jp-layout-color0, white)));\n",
              "  --sklearn-color-border-box: var(--sg-text-color, var(--theme-code-foreground, var(--jp-content-font-color1, black)));\n",
              "  --sklearn-color-icon: #696969;\n",
              "\n",
              "  @media (prefers-color-scheme: dark) {\n",
              "    /* Redefinition of color scheme for dark theme */\n",
              "    --sklearn-color-text-on-default-background: var(--sg-text-color, var(--theme-code-foreground, var(--jp-content-font-color1, white)));\n",
              "    --sklearn-color-background: var(--sg-background-color, var(--theme-background, var(--jp-layout-color0, #111)));\n",
              "    --sklearn-color-border-box: var(--sg-text-color, var(--theme-code-foreground, var(--jp-content-font-color1, white)));\n",
              "    --sklearn-color-icon: #878787;\n",
              "  }\n",
              "}\n",
              "\n",
              "#sk-container-id-1 {\n",
              "  color: var(--sklearn-color-text);\n",
              "}\n",
              "\n",
              "#sk-container-id-1 pre {\n",
              "  padding: 0;\n",
              "}\n",
              "\n",
              "#sk-container-id-1 input.sk-hidden--visually {\n",
              "  border: 0;\n",
              "  clip: rect(1px 1px 1px 1px);\n",
              "  clip: rect(1px, 1px, 1px, 1px);\n",
              "  height: 1px;\n",
              "  margin: -1px;\n",
              "  overflow: hidden;\n",
              "  padding: 0;\n",
              "  position: absolute;\n",
              "  width: 1px;\n",
              "}\n",
              "\n",
              "#sk-container-id-1 div.sk-dashed-wrapped {\n",
              "  border: 1px dashed var(--sklearn-color-line);\n",
              "  margin: 0 0.4em 0.5em 0.4em;\n",
              "  box-sizing: border-box;\n",
              "  padding-bottom: 0.4em;\n",
              "  background-color: var(--sklearn-color-background);\n",
              "}\n",
              "\n",
              "#sk-container-id-1 div.sk-container {\n",
              "  /* jupyter's `normalize.less` sets `[hidden] { display: none; }`\n",
              "     but bootstrap.min.css set `[hidden] { display: none !important; }`\n",
              "     so we also need the `!important` here to be able to override the\n",
              "     default hidden behavior on the sphinx rendered scikit-learn.org.\n",
              "     See: https://github.com/scikit-learn/scikit-learn/issues/21755 */\n",
              "  display: inline-block !important;\n",
              "  position: relative;\n",
              "}\n",
              "\n",
              "#sk-container-id-1 div.sk-text-repr-fallback {\n",
              "  display: none;\n",
              "}\n",
              "\n",
              "div.sk-parallel-item,\n",
              "div.sk-serial,\n",
              "div.sk-item {\n",
              "  /* draw centered vertical line to link estimators */\n",
              "  background-image: linear-gradient(var(--sklearn-color-text-on-default-background), var(--sklearn-color-text-on-default-background));\n",
              "  background-size: 2px 100%;\n",
              "  background-repeat: no-repeat;\n",
              "  background-position: center center;\n",
              "}\n",
              "\n",
              "/* Parallel-specific style estimator block */\n",
              "\n",
              "#sk-container-id-1 div.sk-parallel-item::after {\n",
              "  content: \"\";\n",
              "  width: 100%;\n",
              "  border-bottom: 2px solid var(--sklearn-color-text-on-default-background);\n",
              "  flex-grow: 1;\n",
              "}\n",
              "\n",
              "#sk-container-id-1 div.sk-parallel {\n",
              "  display: flex;\n",
              "  align-items: stretch;\n",
              "  justify-content: center;\n",
              "  background-color: var(--sklearn-color-background);\n",
              "  position: relative;\n",
              "}\n",
              "\n",
              "#sk-container-id-1 div.sk-parallel-item {\n",
              "  display: flex;\n",
              "  flex-direction: column;\n",
              "}\n",
              "\n",
              "#sk-container-id-1 div.sk-parallel-item:first-child::after {\n",
              "  align-self: flex-end;\n",
              "  width: 50%;\n",
              "}\n",
              "\n",
              "#sk-container-id-1 div.sk-parallel-item:last-child::after {\n",
              "  align-self: flex-start;\n",
              "  width: 50%;\n",
              "}\n",
              "\n",
              "#sk-container-id-1 div.sk-parallel-item:only-child::after {\n",
              "  width: 0;\n",
              "}\n",
              "\n",
              "/* Serial-specific style estimator block */\n",
              "\n",
              "#sk-container-id-1 div.sk-serial {\n",
              "  display: flex;\n",
              "  flex-direction: column;\n",
              "  align-items: center;\n",
              "  background-color: var(--sklearn-color-background);\n",
              "  padding-right: 1em;\n",
              "  padding-left: 1em;\n",
              "}\n",
              "\n",
              "\n",
              "/* Toggleable style: style used for estimator/Pipeline/ColumnTransformer box that is\n",
              "clickable and can be expanded/collapsed.\n",
              "- Pipeline and ColumnTransformer use this feature and define the default style\n",
              "- Estimators will overwrite some part of the style using the `sk-estimator` class\n",
              "*/\n",
              "\n",
              "/* Pipeline and ColumnTransformer style (default) */\n",
              "\n",
              "#sk-container-id-1 div.sk-toggleable {\n",
              "  /* Default theme specific background. It is overwritten whether we have a\n",
              "  specific estimator or a Pipeline/ColumnTransformer */\n",
              "  background-color: var(--sklearn-color-background);\n",
              "}\n",
              "\n",
              "/* Toggleable label */\n",
              "#sk-container-id-1 label.sk-toggleable__label {\n",
              "  cursor: pointer;\n",
              "  display: flex;\n",
              "  width: 100%;\n",
              "  margin-bottom: 0;\n",
              "  padding: 0.5em;\n",
              "  box-sizing: border-box;\n",
              "  text-align: center;\n",
              "  align-items: start;\n",
              "  justify-content: space-between;\n",
              "  gap: 0.5em;\n",
              "}\n",
              "\n",
              "#sk-container-id-1 label.sk-toggleable__label .caption {\n",
              "  font-size: 0.6rem;\n",
              "  font-weight: lighter;\n",
              "  color: var(--sklearn-color-text-muted);\n",
              "}\n",
              "\n",
              "#sk-container-id-1 label.sk-toggleable__label-arrow:before {\n",
              "  /* Arrow on the left of the label */\n",
              "  content: \"▸\";\n",
              "  float: left;\n",
              "  margin-right: 0.25em;\n",
              "  color: var(--sklearn-color-icon);\n",
              "}\n",
              "\n",
              "#sk-container-id-1 label.sk-toggleable__label-arrow:hover:before {\n",
              "  color: var(--sklearn-color-text);\n",
              "}\n",
              "\n",
              "/* Toggleable content - dropdown */\n",
              "\n",
              "#sk-container-id-1 div.sk-toggleable__content {\n",
              "  max-height: 0;\n",
              "  max-width: 0;\n",
              "  overflow: hidden;\n",
              "  text-align: left;\n",
              "  /* unfitted */\n",
              "  background-color: var(--sklearn-color-unfitted-level-0);\n",
              "}\n",
              "\n",
              "#sk-container-id-1 div.sk-toggleable__content.fitted {\n",
              "  /* fitted */\n",
              "  background-color: var(--sklearn-color-fitted-level-0);\n",
              "}\n",
              "\n",
              "#sk-container-id-1 div.sk-toggleable__content pre {\n",
              "  margin: 0.2em;\n",
              "  border-radius: 0.25em;\n",
              "  color: var(--sklearn-color-text);\n",
              "  /* unfitted */\n",
              "  background-color: var(--sklearn-color-unfitted-level-0);\n",
              "}\n",
              "\n",
              "#sk-container-id-1 div.sk-toggleable__content.fitted pre {\n",
              "  /* unfitted */\n",
              "  background-color: var(--sklearn-color-fitted-level-0);\n",
              "}\n",
              "\n",
              "#sk-container-id-1 input.sk-toggleable__control:checked~div.sk-toggleable__content {\n",
              "  /* Expand drop-down */\n",
              "  max-height: 200px;\n",
              "  max-width: 100%;\n",
              "  overflow: auto;\n",
              "}\n",
              "\n",
              "#sk-container-id-1 input.sk-toggleable__control:checked~label.sk-toggleable__label-arrow:before {\n",
              "  content: \"▾\";\n",
              "}\n",
              "\n",
              "/* Pipeline/ColumnTransformer-specific style */\n",
              "\n",
              "#sk-container-id-1 div.sk-label input.sk-toggleable__control:checked~label.sk-toggleable__label {\n",
              "  color: var(--sklearn-color-text);\n",
              "  background-color: var(--sklearn-color-unfitted-level-2);\n",
              "}\n",
              "\n",
              "#sk-container-id-1 div.sk-label.fitted input.sk-toggleable__control:checked~label.sk-toggleable__label {\n",
              "  background-color: var(--sklearn-color-fitted-level-2);\n",
              "}\n",
              "\n",
              "/* Estimator-specific style */\n",
              "\n",
              "/* Colorize estimator box */\n",
              "#sk-container-id-1 div.sk-estimator input.sk-toggleable__control:checked~label.sk-toggleable__label {\n",
              "  /* unfitted */\n",
              "  background-color: var(--sklearn-color-unfitted-level-2);\n",
              "}\n",
              "\n",
              "#sk-container-id-1 div.sk-estimator.fitted input.sk-toggleable__control:checked~label.sk-toggleable__label {\n",
              "  /* fitted */\n",
              "  background-color: var(--sklearn-color-fitted-level-2);\n",
              "}\n",
              "\n",
              "#sk-container-id-1 div.sk-label label.sk-toggleable__label,\n",
              "#sk-container-id-1 div.sk-label label {\n",
              "  /* The background is the default theme color */\n",
              "  color: var(--sklearn-color-text-on-default-background);\n",
              "}\n",
              "\n",
              "/* On hover, darken the color of the background */\n",
              "#sk-container-id-1 div.sk-label:hover label.sk-toggleable__label {\n",
              "  color: var(--sklearn-color-text);\n",
              "  background-color: var(--sklearn-color-unfitted-level-2);\n",
              "}\n",
              "\n",
              "/* Label box, darken color on hover, fitted */\n",
              "#sk-container-id-1 div.sk-label.fitted:hover label.sk-toggleable__label.fitted {\n",
              "  color: var(--sklearn-color-text);\n",
              "  background-color: var(--sklearn-color-fitted-level-2);\n",
              "}\n",
              "\n",
              "/* Estimator label */\n",
              "\n",
              "#sk-container-id-1 div.sk-label label {\n",
              "  font-family: monospace;\n",
              "  font-weight: bold;\n",
              "  display: inline-block;\n",
              "  line-height: 1.2em;\n",
              "}\n",
              "\n",
              "#sk-container-id-1 div.sk-label-container {\n",
              "  text-align: center;\n",
              "}\n",
              "\n",
              "/* Estimator-specific */\n",
              "#sk-container-id-1 div.sk-estimator {\n",
              "  font-family: monospace;\n",
              "  border: 1px dotted var(--sklearn-color-border-box);\n",
              "  border-radius: 0.25em;\n",
              "  box-sizing: border-box;\n",
              "  margin-bottom: 0.5em;\n",
              "  /* unfitted */\n",
              "  background-color: var(--sklearn-color-unfitted-level-0);\n",
              "}\n",
              "\n",
              "#sk-container-id-1 div.sk-estimator.fitted {\n",
              "  /* fitted */\n",
              "  background-color: var(--sklearn-color-fitted-level-0);\n",
              "}\n",
              "\n",
              "/* on hover */\n",
              "#sk-container-id-1 div.sk-estimator:hover {\n",
              "  /* unfitted */\n",
              "  background-color: var(--sklearn-color-unfitted-level-2);\n",
              "}\n",
              "\n",
              "#sk-container-id-1 div.sk-estimator.fitted:hover {\n",
              "  /* fitted */\n",
              "  background-color: var(--sklearn-color-fitted-level-2);\n",
              "}\n",
              "\n",
              "/* Specification for estimator info (e.g. \"i\" and \"?\") */\n",
              "\n",
              "/* Common style for \"i\" and \"?\" */\n",
              "\n",
              ".sk-estimator-doc-link,\n",
              "a:link.sk-estimator-doc-link,\n",
              "a:visited.sk-estimator-doc-link {\n",
              "  float: right;\n",
              "  font-size: smaller;\n",
              "  line-height: 1em;\n",
              "  font-family: monospace;\n",
              "  background-color: var(--sklearn-color-background);\n",
              "  border-radius: 1em;\n",
              "  height: 1em;\n",
              "  width: 1em;\n",
              "  text-decoration: none !important;\n",
              "  margin-left: 0.5em;\n",
              "  text-align: center;\n",
              "  /* unfitted */\n",
              "  border: var(--sklearn-color-unfitted-level-1) 1pt solid;\n",
              "  color: var(--sklearn-color-unfitted-level-1);\n",
              "}\n",
              "\n",
              ".sk-estimator-doc-link.fitted,\n",
              "a:link.sk-estimator-doc-link.fitted,\n",
              "a:visited.sk-estimator-doc-link.fitted {\n",
              "  /* fitted */\n",
              "  border: var(--sklearn-color-fitted-level-1) 1pt solid;\n",
              "  color: var(--sklearn-color-fitted-level-1);\n",
              "}\n",
              "\n",
              "/* On hover */\n",
              "div.sk-estimator:hover .sk-estimator-doc-link:hover,\n",
              ".sk-estimator-doc-link:hover,\n",
              "div.sk-label-container:hover .sk-estimator-doc-link:hover,\n",
              ".sk-estimator-doc-link:hover {\n",
              "  /* unfitted */\n",
              "  background-color: var(--sklearn-color-unfitted-level-3);\n",
              "  color: var(--sklearn-color-background);\n",
              "  text-decoration: none;\n",
              "}\n",
              "\n",
              "div.sk-estimator.fitted:hover .sk-estimator-doc-link.fitted:hover,\n",
              ".sk-estimator-doc-link.fitted:hover,\n",
              "div.sk-label-container:hover .sk-estimator-doc-link.fitted:hover,\n",
              ".sk-estimator-doc-link.fitted:hover {\n",
              "  /* fitted */\n",
              "  background-color: var(--sklearn-color-fitted-level-3);\n",
              "  color: var(--sklearn-color-background);\n",
              "  text-decoration: none;\n",
              "}\n",
              "\n",
              "/* Span, style for the box shown on hovering the info icon */\n",
              ".sk-estimator-doc-link span {\n",
              "  display: none;\n",
              "  z-index: 9999;\n",
              "  position: relative;\n",
              "  font-weight: normal;\n",
              "  right: .2ex;\n",
              "  padding: .5ex;\n",
              "  margin: .5ex;\n",
              "  width: min-content;\n",
              "  min-width: 20ex;\n",
              "  max-width: 50ex;\n",
              "  color: var(--sklearn-color-text);\n",
              "  box-shadow: 2pt 2pt 4pt #999;\n",
              "  /* unfitted */\n",
              "  background: var(--sklearn-color-unfitted-level-0);\n",
              "  border: .5pt solid var(--sklearn-color-unfitted-level-3);\n",
              "}\n",
              "\n",
              ".sk-estimator-doc-link.fitted span {\n",
              "  /* fitted */\n",
              "  background: var(--sklearn-color-fitted-level-0);\n",
              "  border: var(--sklearn-color-fitted-level-3);\n",
              "}\n",
              "\n",
              ".sk-estimator-doc-link:hover span {\n",
              "  display: block;\n",
              "}\n",
              "\n",
              "/* \"?\"-specific style due to the `<a>` HTML tag */\n",
              "\n",
              "#sk-container-id-1 a.estimator_doc_link {\n",
              "  float: right;\n",
              "  font-size: 1rem;\n",
              "  line-height: 1em;\n",
              "  font-family: monospace;\n",
              "  background-color: var(--sklearn-color-background);\n",
              "  border-radius: 1rem;\n",
              "  height: 1rem;\n",
              "  width: 1rem;\n",
              "  text-decoration: none;\n",
              "  /* unfitted */\n",
              "  color: var(--sklearn-color-unfitted-level-1);\n",
              "  border: var(--sklearn-color-unfitted-level-1) 1pt solid;\n",
              "}\n",
              "\n",
              "#sk-container-id-1 a.estimator_doc_link.fitted {\n",
              "  /* fitted */\n",
              "  border: var(--sklearn-color-fitted-level-1) 1pt solid;\n",
              "  color: var(--sklearn-color-fitted-level-1);\n",
              "}\n",
              "\n",
              "/* On hover */\n",
              "#sk-container-id-1 a.estimator_doc_link:hover {\n",
              "  /* unfitted */\n",
              "  background-color: var(--sklearn-color-unfitted-level-3);\n",
              "  color: var(--sklearn-color-background);\n",
              "  text-decoration: none;\n",
              "}\n",
              "\n",
              "#sk-container-id-1 a.estimator_doc_link.fitted:hover {\n",
              "  /* fitted */\n",
              "  background-color: var(--sklearn-color-fitted-level-3);\n",
              "}\n",
              "</style><div id=\"sk-container-id-1\" class=\"sk-top-container\"><div class=\"sk-text-repr-fallback\"><pre>KNeighborsClassifier(n_jobs=-1, n_neighbors=3)</pre><b>In a Jupyter environment, please rerun this cell to show the HTML representation or trust the notebook. <br />On GitHub, the HTML representation is unable to render, please try loading this page with nbviewer.org.</b></div><div class=\"sk-container\" hidden><div class=\"sk-item\"><div class=\"sk-estimator fitted sk-toggleable\"><input class=\"sk-toggleable__control sk-hidden--visually\" id=\"sk-estimator-id-1\" type=\"checkbox\" checked><label for=\"sk-estimator-id-1\" class=\"sk-toggleable__label fitted sk-toggleable__label-arrow\"><div><div>KNeighborsClassifier</div></div><div><a class=\"sk-estimator-doc-link fitted\" rel=\"noreferrer\" target=\"_blank\" href=\"https://scikit-learn.org/1.6/modules/generated/sklearn.neighbors.KNeighborsClassifier.html\">?<span>Documentation for KNeighborsClassifier</span></a><span class=\"sk-estimator-doc-link fitted\">i<span>Fitted</span></span></div></label><div class=\"sk-toggleable__content fitted\"><pre>KNeighborsClassifier(n_jobs=-1, n_neighbors=3)</pre></div> </div></div></div></div>"
            ]
          },
          "metadata": {},
          "execution_count": 15
        }
      ]
    },
    {
      "cell_type": "code",
      "source": [
        "# Evaluate on all sets\n",
        "train_pred = final_knn.predict(X_train_vec)\n",
        "val_pred = final_knn.predict(X_val_vec)\n",
        "test_pred = final_knn.predict(X_test_vec)"
      ],
      "metadata": {
        "id": "g1Ms8E1bEe_9"
      },
      "execution_count": 16,
      "outputs": []
    },
    {
      "cell_type": "code",
      "source": [
        "# Calculate metrics for each set\n",
        "def print_metrics(y_true, y_pred, dataset_name):\n",
        "    print(f\"\\n{dataset_name} Set Metrics:\")\n",
        "    print(f\"  Accuracy:  {accuracy_score(y_true, y_pred):.4f}\")\n",
        "    print(f\"  Precision: {precision_score(y_true, y_pred):.4f}\")\n",
        "    print(f\"  Recall:    {recall_score(y_true, y_pred):.4f}\")\n",
        "    print(f\"  F1-Score:  {f1_score(y_true, y_pred):.4f}\")\n",
        "\n",
        "print_metrics(y_train, train_pred, \"Training Accuracy\")\n",
        "print_metrics(y_val, val_pred, \"Validation Accuracy\")\n",
        "print_metrics(y_test, test_pred, \"Test Accuracy\")"
      ],
      "metadata": {
        "colab": {
          "base_uri": "https://localhost:8080/"
        },
        "id": "IT3N_B1SEiBO",
        "outputId": "7614befe-9dc1-43a2-9c34-cb1b0cae83a7"
      },
      "execution_count": 17,
      "outputs": [
        {
          "output_type": "stream",
          "name": "stdout",
          "text": [
            "\n",
            "Training Accuracy Set Metrics:\n",
            "  Accuracy:  0.9014\n",
            "  Precision: 0.8436\n",
            "  Recall:    0.9947\n",
            "  F1-Score:  0.9130\n",
            "\n",
            "Validation Accuracy Set Metrics:\n",
            "  Accuracy:  0.8142\n",
            "  Precision: 0.7426\n",
            "  Recall:    0.9837\n",
            "  F1-Score:  0.8463\n",
            "\n",
            "Test Accuracy Set Metrics:\n",
            "  Accuracy:  0.8124\n",
            "  Precision: 0.7402\n",
            "  Recall:    0.9848\n",
            "  F1-Score:  0.8452\n"
          ]
        }
      ]
    },
    {
      "cell_type": "code",
      "source": [
        "# Detailed classification report for test set\n",
        "print(f\"\\n{'='*60}\")\n",
        "print(\"DETAILED TEST SET CLASSIFICATION REPORT\")\n",
        "print(f\"{'='*60}\")\n",
        "print(classification_report(y_test, test_pred, target_names=['Safe Email', 'Phishing Email']))"
      ],
      "metadata": {
        "id": "HfWQoLdKEkx4",
        "colab": {
          "base_uri": "https://localhost:8080/"
        },
        "outputId": "f116f6fa-6e0c-4022-9dca-6ec1de4baef0"
      },
      "execution_count": 18,
      "outputs": [
        {
          "output_type": "stream",
          "name": "stdout",
          "text": [
            "\n",
            "============================================================\n",
            "DETAILED TEST SET CLASSIFICATION REPORT\n",
            "============================================================\n",
            "                precision    recall  f1-score   support\n",
            "\n",
            "    Safe Email       0.97      0.63      0.76      5940\n",
            "Phishing Email       0.74      0.98      0.85      6433\n",
            "\n",
            "      accuracy                           0.81     12373\n",
            "     macro avg       0.86      0.81      0.80     12373\n",
            "  weighted avg       0.85      0.81      0.81     12373\n",
            "\n"
          ]
        }
      ]
    },
    {
      "cell_type": "code",
      "source": [
        "# Confusion Matrix for test set\n",
        "cm = confusion_matrix(y_test, test_pred)\n",
        "plt.figure(figsize=(8, 6))\n",
        "sns.heatmap(cm, annot=True, fmt='d', cmap='Blues',\n",
        "            xticklabels=['Safe Email', 'Phishing Email'],\n",
        "            yticklabels=['Safe Email', 'Phishing Email'])\n",
        "plt.title(f'Confusion Matrix - Test Set (k={best_k})', fontsize=14, fontweight='bold')\n",
        "plt.ylabel('True Label', fontsize=12)\n",
        "plt.xlabel('Predicted Label', fontsize=12)\n",
        "plt.tight_layout()\n",
        "plt.savefig('confusion_matrix.png', dpi=300, bbox_inches='tight')\n",
        "plt.show()"
      ],
      "metadata": {
        "colab": {
          "base_uri": "https://localhost:8080/",
          "height": 607
        },
        "id": "KaSBNwfwpo02",
        "outputId": "51a9b901-9731-4f47-8b9e-621171e48385"
      },
      "execution_count": 19,
      "outputs": [
        {
          "output_type": "display_data",
          "data": {
            "text/plain": [
              "<Figure size 800x600 with 2 Axes>"
            ],
            "image/png": "[encoded data removed]"
          },
          "metadata": {}
        }
      ]
    },
    {
      "cell_type": "code",
      "source": [
        "# Summary\n",
        "print(f\"\\n{'='*60}\")\n",
        "print(\"FINAL SUMMARY\")\n",
        "print(f\"{'='*60}\")\n",
        "print(f\"Best k value: {best_k}\")\n",
        "print(f\"Test Accuracy: {accuracy_score(y_test, test_pred):.4f}\")\n",
        "print(f\"Test F1-Score: {f1_score(y_test, test_pred):.4f}\")\n",
        "print(f\"\\nModel saved as 'final_knn' and vectorizer as 'vectorizer'\")"
      ],
      "metadata": {
        "colab": {
          "base_uri": "https://localhost:8080/"
        },
        "id": "1Ffr1FgyprPO",
        "outputId": "cdcb4269-f81c-4e43-fadf-ebd828be4e5a"
      },
      "execution_count": 20,
      "outputs": [
        {
          "output_type": "stream",
          "name": "stdout",
          "text": [
            "\n",
            "============================================================\n",
            "FINAL SUMMARY\n",
            "============================================================\n",
            "Best k value: 3\n",
            "Test Accuracy: 0.8124\n",
            "Test F1-Score: 0.8452\n",
            "\n",
            "Model saved as 'final_knn' and vectorizer as 'vectorizer'\n"
          ]
        }
      ]
    },
    {
      "cell_type": "code",
      "source": [
        "# Example prediction function\n",
        "def predict_email(email_text):\n",
        "    \"\"\"Predict if an email is phishing or safe\"\"\"\n",
        "    email_vec = vectorizer.transform([email_text])\n",
        "    prediction = final_knn.predict(email_vec)[0]\n",
        "    proba = final_knn.predict_proba(email_vec)[0]\n",
        "\n",
        "    label = \"Phishing Email\" if prediction == 1 else \"Safe Email\"\n",
        "    confidence = proba[prediction] * 100\n",
        "\n",
        "    return label, confidence\n",
        "\n",
        "# Testing with a sample email\n",
        "print(f\"\\n{'='*60}\")\n",
        "print(\"EXAMPLE PREDICTION\")\n",
        "print(f\"{'='*60}\")\n",
        "sample_email = X_test.iloc[0]\n",
        "true_label = y_test.iloc[0]\n",
        "\n",
        "pred_label, confidence = predict_email(sample_email)\n",
        "print(f\"Email: {sample_email[:100]}...\")\n",
        "print(f\"True Label: {'Phishing Email' if true_label == 1 else 'Safe Email'}\")\n",
        "print(f\"Prediction: {pred_label}\")\n",
        "print(f\"Confidence: {confidence:.2f}%\")"
      ],
      "metadata": {
        "colab": {
          "base_uri": "https://localhost:8080/"
        },
        "id": "io_-bvhmpuNs",
        "outputId": "321d884b-7bea-499c-dede-df99be38f5fd"
      },
      "execution_count": 22,
      "outputs": [
        {
          "output_type": "stream",
          "name": "stdout",
          "text": [
            "\n",
            "============================================================\n",
            "EXAMPLE PREDICTION\n",
            "============================================================\n",
            "Email: denver craig eawfdmboulderpcscom make secure order canadian pharmacy online drugstore receive order ...\n",
            "True Label: Phishing Email\n",
            "Prediction: Phishing Email\n",
            "Confidence: 100.00%\n"
          ]
        }
      ]
    },
    {
      "cell_type": "code",
      "source": [],
      "metadata": {
        "id": "WhGS-T1nqexs"
      },
      "execution_count": null,
      "outputs": []
    }
  ]
}